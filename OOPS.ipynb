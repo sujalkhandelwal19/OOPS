{
 "cells": [
  {
   "cell_type": "markdown",
   "id": "52576af7-7d86-4627-94c6-da5f4c91ff78",
   "metadata": {},
   "source": [
    "# Practical Questions"
   ]
  },
  {
   "cell_type": "markdown",
   "id": "a1dd6532-49f2-4fa4-a4a9-83bf09474e9f",
   "metadata": {},
   "source": [
    "### 1. Create a parent class Animal with a method speak() that prints a generic message. Create a child class Dog that overrides the speak() method to print \"Bark!\". "
   ]
  },
  {
   "cell_type": "code",
   "execution_count": 2,
   "id": "5f548d62-76f0-478f-8bb6-e45c89e70626",
   "metadata": {},
   "outputs": [
    {
     "name": "stdout",
     "output_type": "stream",
     "text": [
      "Animal speaks\n",
      "Bark!\n"
     ]
    }
   ],
   "source": [
    "class Animal:\n",
    "    def speak(self):\n",
    "        print(\"Animal speaks\")\n",
    "class Dog:\n",
    "    def speak(self):\n",
    "        print(\"Bark!\")\n",
    "o1=Animal()\n",
    "o2=Dog()\n",
    "o1.speak()\n",
    "o2.speak()"
   ]
  },
  {
   "cell_type": "markdown",
   "id": "1a27abb4-3751-42fd-8a25-1de0353289df",
   "metadata": {},
   "source": [
    "### 2. Write a program to create an abstract class Shape with a method area(). Derive classes Circle and Rectangle from it and implement the area() method in both"
   ]
  },
  {
   "cell_type": "code",
   "execution_count": 4,
   "id": "d25be355-696f-4612-9251-2c97aecef746",
   "metadata": {},
   "outputs": [
    {
     "name": "stdout",
     "output_type": "stream",
     "text": [
      "8\n",
      "50.26548245743669\n"
     ]
    }
   ],
   "source": [
    "from abc import ABC,abstractmethod\n",
    "import math\n",
    "class Shape(ABC):\n",
    "    @abstractmethod\n",
    "    def area(self):\n",
    "        pass\n",
    "class Rectangle(Shape):\n",
    "    def __init__(self,length,breadth):\n",
    "        self.length=length\n",
    "        self.breadth=breadth\n",
    "    def area(self):\n",
    "        return self.length*self.breadth\n",
    "class Circle(Shape):\n",
    "    def __init__(self,radius):\n",
    "        self.radius=radius\n",
    "    def area(self):\n",
    "        return math.pi*self.radius**2\n",
    "o1=Rectangle(2,4)\n",
    "o2=Circle(4)\n",
    "print(o1.area())\n",
    "print(o2.area())"
   ]
  },
  {
   "cell_type": "markdown",
   "id": "4216d425-63de-4e1b-80d8-a389bd2a9fc8",
   "metadata": {},
   "source": [
    "### Implement a multi-level inheritance scenario where a class Vehicle has an attribute type. Derive a class Car and further derive a class ElectricCar that adds a battery attribute"
   ]
  },
  {
   "cell_type": "code",
   "execution_count": 6,
   "id": "5436de21-1df8-43f0-a099-0e78c10caf5c",
   "metadata": {},
   "outputs": [],
   "source": [
    "class Vehicle:\n",
    "    def __init__(self,typ):\n",
    "        self.typ=typ\n",
    "class Car(Vehicle):\n",
    "    def __init__(self,typ,brand):\n",
    "        super().__init__(typ)\n",
    "        self.brand=brand\n",
    "class ElectricCar(Car):\n",
    "    def __init__(self,typ,brand,battery):\n",
    "        super().__init__(typ,brand)\n",
    "        self.battery=battery\n",
    "    "
   ]
  },
  {
   "cell_type": "markdown",
   "id": "4715e489-630b-4625-8a35-d8d33918259e",
   "metadata": {},
   "source": [
    "### 4. Demonstrate polymorphism by creating a base class Bird with a method fly(). Create two derived classes Sparrow and Penguin that override the fly() method"
   ]
  },
  {
   "cell_type": "code",
   "execution_count": 8,
   "id": "2c686a48-921f-44d1-a1b8-1dfd3a2279ed",
   "metadata": {},
   "outputs": [
    {
     "name": "stdout",
     "output_type": "stream",
     "text": [
      "Sparrow can fly\n",
      "Penguin cannot fly\n"
     ]
    }
   ],
   "source": [
    "class Bird:\n",
    "    def fly(self):\n",
    "        print(\"Bird can Fly\")\n",
    "class Sparrow(Bird):\n",
    "    def fly(self):\n",
    "        print(\"Sparrow can fly\")\n",
    "class Penguin(Bird):\n",
    "    def fly(Self):\n",
    "        print(\"Penguin cannot fly\")\n",
    "birds=[Sparrow(),Penguin()]\n",
    "for bird in birds:\n",
    "    bird.fly()"
   ]
  },
  {
   "cell_type": "markdown",
   "id": "0831cc78-8db3-41ee-b131-d5f36de1e687",
   "metadata": {},
   "source": [
    "### 5. Write a program to demonstrate encapsulation by creating a class BankAccount with private attributes balance and methods to deposit, withdraw, and check balance"
   ]
  },
  {
   "cell_type": "code",
   "execution_count": 11,
   "id": "828eabd8-1829-458a-9499-c547239f8285",
   "metadata": {},
   "outputs": [
    {
     "name": "stdout",
     "output_type": "stream",
     "text": [
      "500 successfully withdrawn from your bank account\n",
      "Balance: 500\n",
      "1800 deposited in your bank account\n",
      "Balance: 2300\n"
     ]
    }
   ],
   "source": [
    "class BankAccount:\n",
    "    def __init__(self,balance):\n",
    "        self.__balance=balance\n",
    "    def withdraw(self,amount):\n",
    "        if self.__balance>=amount:\n",
    "            self.__balance-=amount\n",
    "            print(f\"{amount} successfully withdrawn from your bank account\")\n",
    "        else:\n",
    "            print(\"Insufficient Balance\")\n",
    "    def deposit(self,amount):\n",
    "        self.__balance+=amount\n",
    "        print(f\"{amount} deposited in your bank account\")\n",
    "    def check_balance(self):\n",
    "        return f\"Balance: {self.__balance}\"\n",
    "o=BankAccount(1000)\n",
    "o.withdraw(500)\n",
    "print(o.check_balance())\n",
    "o.deposit(1800)\n",
    "print(o.check_balance())"
   ]
  },
  {
   "cell_type": "markdown",
   "id": "147360a9-469d-4229-951d-07ac8734d00a",
   "metadata": {},
   "source": [
    "### 6. Demonstrate runtime polymorphism using a method play() in a base class Instrument. Derive classes Guitar and Piano that implement their own version of play()"
   ]
  },
  {
   "cell_type": "code",
   "execution_count": 12,
   "id": "162712bc-92cc-473b-b20e-a8a3fd017245",
   "metadata": {},
   "outputs": [
    {
     "name": "stdout",
     "output_type": "stream",
     "text": [
      "Strumming the guitar\n",
      "Playing the piano keys\n"
     ]
    }
   ],
   "source": [
    "class Instrument:\n",
    "    def play(self):\n",
    "        print(\"Playing an instrument\")\n",
    "class Guitar(Instrument):\n",
    "    def play(self):\n",
    "        print(\"Strumming the guitar\")\n",
    "class Piano(Instrument):\n",
    "    def play(self):\n",
    "        print(\"Playing the piano keys\")\n",
    "instruments=[Guitar(),Piano()]\n",
    "for instrument in instruments:\n",
    "    instrument.play()"
   ]
  },
  {
   "cell_type": "markdown",
   "id": "c90e2a2e-c95a-4965-af73-d83daee22a64",
   "metadata": {},
   "source": [
    "### 7. Create a class MathOperations with a class method add_numbers() to add two numbers and a static method subtract_numbers() to subtract two numbers"
   ]
  },
  {
   "cell_type": "code",
   "execution_count": 13,
   "id": "ce9c07a2-8762-410b-83ee-bc5ee9db14a1",
   "metadata": {},
   "outputs": [
    {
     "name": "stdout",
     "output_type": "stream",
     "text": [
      "Sum: 9\n",
      "Difference: 4\n"
     ]
    }
   ],
   "source": [
    "class MathOperations:\n",
    "    @classmethod\n",
    "    def add_numbers(cls,a,b):\n",
    "        return a+b\n",
    "    @staticmethod\n",
    "    def substract_numbers(a,b):\n",
    "        return a-b\n",
    "sum_result=MathOperations.add_numbers(4,5)\n",
    "difference=MathOperations.substract_numbers(6,2)\n",
    "print(f\"Sum: {sum_result}\")\n",
    "print(f\"Difference: {difference}\")"
   ]
  },
  {
   "cell_type": "markdown",
   "id": "655c0964-c5c7-4a95-9f50-8017c5b22851",
   "metadata": {},
   "source": [
    "### 8. Implement a class Person with a class method to count the total number of persons created"
   ]
  },
  {
   "cell_type": "code",
   "execution_count": 20,
   "id": "b8c8c821-1593-49de-82a8-51bc553e6ae5",
   "metadata": {},
   "outputs": [
    {
     "name": "stdout",
     "output_type": "stream",
     "text": [
      "Total Person Created :2\n"
     ]
    }
   ],
   "source": [
    "class Person:\n",
    "    total_count=0\n",
    "    def __init__(self):\n",
    "        Person.total_count+=1\n",
    "    @classmethod\n",
    "    def total_persons(cls):\n",
    "        print(f\"Total Person Created :{cls.total_count}\")\n",
    "p1=Person()\n",
    "p2=Person()\n",
    "Person.total_persons()\n",
    "        "
   ]
  },
  {
   "cell_type": "markdown",
   "id": "fffcded2-7270-477c-bb9b-14cbc00a91b7",
   "metadata": {},
   "source": [
    "### 9. Write a class Fraction with attributes numerator and denominator. Override the str method to display the fraction as \"numerator/denominator\""
   ]
  },
  {
   "cell_type": "code",
   "execution_count": 22,
   "id": "0d3fd229-fe0f-4cc4-aea3-1d83253d1b20",
   "metadata": {},
   "outputs": [
    {
     "name": "stdout",
     "output_type": "stream",
     "text": [
      "Fraction: 3/4\n"
     ]
    }
   ],
   "source": [
    "class Fraction:\n",
    "    def __init__(self,numerator,denominator):\n",
    "        self.numerator=numerator\n",
    "        self.denominator=denominator\n",
    "    def __str__(self):\n",
    "        return f\"Fraction: {self.numerator}/{self.denominator}\"\n",
    "f=Fraction(3,4)\n",
    "print(f)"
   ]
  },
  {
   "cell_type": "markdown",
   "id": "16aaf558-b5fc-459b-8b90-b826718e7c21",
   "metadata": {},
   "source": [
    "### 10. Demonstrate operator overloading by creating a class Vector and overriding the add method to add two vectors"
   ]
  },
  {
   "cell_type": "code",
   "execution_count": 23,
   "id": "e8db8c48-8442-45bb-8620-f922ac27cbbe",
   "metadata": {},
   "outputs": [
    {
     "name": "stdout",
     "output_type": "stream",
     "text": [
      "Vector(6,8)\n"
     ]
    }
   ],
   "source": [
    "class Vector:\n",
    "    def __init__(self,x,y):\n",
    "        self.x=x\n",
    "        self.y=y\n",
    "    def __add__(self,other):\n",
    "        return Vector(self.x+other.x,self.y+other.y)\n",
    "    def __str__(self):\n",
    "        return f\"Vector({self.x},{self.y})\"\n",
    "v1=Vector(2,3)\n",
    "v2=Vector(4,5)\n",
    "v3=v1+v2\n",
    "print(v3)\n",
    "        "
   ]
  },
  {
   "cell_type": "markdown",
   "id": "eb23eed8-5ef4-4fe6-8460-a927748e50da",
   "metadata": {},
   "source": [
    "### 11. Create a class Person with attributes name and age. Add a method greet() that prints \"Hello, my name is {name} and I am {age} years old\"\n"
   ]
  },
  {
   "cell_type": "code",
   "execution_count": 24,
   "id": "d39995b7-a88e-485e-a962-67b0c58d2013",
   "metadata": {},
   "outputs": [
    {
     "name": "stdout",
     "output_type": "stream",
     "text": [
      "Hello, my name is Sujal and i am 21 years old\n"
     ]
    }
   ],
   "source": [
    "class Person:\n",
    "    def __init__(self,name,age):\n",
    "        self.name=name\n",
    "        self.age=age\n",
    "    def greet(self):\n",
    "        print(f\"Hello, my name is {self.name} and i am {self.age} years old\")\n",
    "p=Person(\"Sujal\",21)\n",
    "p.greet()"
   ]
  },
  {
   "cell_type": "markdown",
   "id": "75284898-dce5-408c-a766-949f6ea26b38",
   "metadata": {},
   "source": [
    "### 12. Implement a class Student with attributes name and grades. Create a method average_grade() to compute the average of the grades"
   ]
  },
  {
   "cell_type": "code",
   "execution_count": 25,
   "id": "1e93448a-8572-40f7-849a-e571c88f94e7",
   "metadata": {},
   "outputs": [
    {
     "name": "stdout",
     "output_type": "stream",
     "text": [
      "Sujal's Average Grade: 86.25\n"
     ]
    }
   ],
   "source": [
    "class Student:\n",
    "    def __init__(self, name, grades):\n",
    "        self.name = name\n",
    "        self.grades = grades  \n",
    "\n",
    "    def average_grade(self):\n",
    "        if not self.grades:\n",
    "            return 0\n",
    "        return sum(self.grades) / len(self.grades)\n",
    "\n",
    "s1 = Student(\"Sujal\", [85, 90, 78, 92])\n",
    "print(f\"{s1.name}'s Average Grade: {s1.average_grade():.2f}\")\n"
   ]
  },
  {
   "cell_type": "markdown",
   "id": "fa6ca09e-9e84-4545-b584-002822637c8f",
   "metadata": {},
   "source": [
    "### 13. Create a class Rectangle with methods set_dimensions() to set the dimensions and area() to calculate the area"
   ]
  },
  {
   "cell_type": "code",
   "execution_count": 29,
   "id": "b5fc860a-e4ac-4762-815c-9e5d2cec597b",
   "metadata": {},
   "outputs": [
    {
     "data": {
      "text/plain": [
       "'Area of a Rectangle: 20'"
      ]
     },
     "execution_count": 29,
     "metadata": {},
     "output_type": "execute_result"
    }
   ],
   "source": [
    "class Rectangle:\n",
    "    def set_dimensions(self):\n",
    "        self.length=0\n",
    "        self.breadth=0\n",
    "    def set_dimensions(self,length,breadth):\n",
    "        self.length=length\n",
    "        self.breadth=breadth\n",
    "    def area(self):\n",
    "        return f\"Area of a Rectangle: {self.length*self.breadth}\"\n",
    "rect=Rectangle()\n",
    "rect.set_dimensions(4,5)\n",
    "rect.area()\n",
    "        "
   ]
  },
  {
   "cell_type": "markdown",
   "id": "095edff1-37f2-4276-9bc1-b3f750013558",
   "metadata": {},
   "source": [
    "### 14. Create a class Employee with a method calculate_salary() that computes the salary based on hours worked and hourly rate. Create a derived class Manager that adds a bonus to the salary"
   ]
  },
  {
   "cell_type": "code",
   "execution_count": 31,
   "id": "b7f9063c-6cff-4c86-8f24-4f85f1771052",
   "metadata": {},
   "outputs": [
    {
     "name": "stdout",
     "output_type": "stream",
     "text": [
      "Employee Salary: 2000\n",
      "Manager Salary (with bonus): 2500\n"
     ]
    }
   ],
   "source": [
    "class Employee:\n",
    "    def __init__(self,hours_worked,hourly_rate):\n",
    "        self.hourly_rate=hourly_rate\n",
    "        self.hours_worked=hours_worked\n",
    "    def calculate_salary(self):\n",
    "        return self.hourly_rate*self.hours_worked\n",
    "class Manager(Employee):\n",
    "    def __init__(self,hours_worked,hourly_rate,bonus):\n",
    "        super().__init__(hours_worked,hourly_rate)\n",
    "        self.bonus=bonus\n",
    "    def calculate_salary(self):\n",
    "        base=super().calculate_salary()\n",
    "        return base+self.bonus\n",
    "emp=Employee(40,50)\n",
    "print(f\"Employee Salary: {emp.calculate_salary()}\")\n",
    "mgr=Manager(40,50,500)\n",
    "print(f\"Manager Salary (with bonus): {mgr.calculate_salary()}\")"
   ]
  },
  {
   "cell_type": "markdown",
   "id": "332638ca-d9f5-40b3-9288-57d53d0255e7",
   "metadata": {},
   "source": [
    "### 15. Create a class Product with attributes name, price, and quantity. Implement a method total_price() that calculates the total price of the product"
   ]
  },
  {
   "cell_type": "code",
   "execution_count": 32,
   "id": "31842ccb-a0f3-47fb-aea2-e12d2c147809",
   "metadata": {},
   "outputs": [
    {
     "name": "stdout",
     "output_type": "stream",
     "text": [
      "Total Price: 150\n"
     ]
    }
   ],
   "source": [
    "class Product:\n",
    "    def __init__(self,name,price,quantity):\n",
    "        self.name=name\n",
    "        self.price=price\n",
    "        self.quantity=quantity\n",
    "    def total_price(self):\n",
    "        total=self.price*self.quantity\n",
    "        return total\n",
    "p=Product(\"Biscuit\",50,3)\n",
    "print(f\"Total Price: {p.total_price()}\")"
   ]
  },
  {
   "cell_type": "markdown",
   "id": "504ee013-bef6-4586-99bb-4045e7256ce2",
   "metadata": {},
   "source": [
    "### 16. Create a class Animal with an abstract method sound(). Create two derived classes Cow and Sheep that implement the sound() method"
   ]
  },
  {
   "cell_type": "code",
   "execution_count": 33,
   "id": "de50b149-ea4b-4293-8b92-84bdb5e1d65a",
   "metadata": {},
   "outputs": [
    {
     "name": "stdout",
     "output_type": "stream",
     "text": [
      "I am a Cow\n",
      "I am a Sheep\n"
     ]
    }
   ],
   "source": [
    "from abc import ABC,abstractmethod\n",
    "class Animal(ABC):\n",
    "    @abstractmethod\n",
    "    def sound(self):\n",
    "        pass\n",
    "class Cow(Animal):\n",
    "    def sound(self):\n",
    "        print(\"I am a Cow\")\n",
    "class Sheep(Animal):\n",
    "    def sound(self):\n",
    "        print(\"I am a Sheep\")\n",
    "o1=Cow()\n",
    "o2=Sheep()\n",
    "o1.sound()\n",
    "o2.sound()"
   ]
  },
  {
   "cell_type": "markdown",
   "id": "46cc34ed-938d-487f-b5c2-f2f526a1fef8",
   "metadata": {},
   "source": [
    "### 17. Create a class Book with attributes title, author, and year_published. Add a method get_book_info() that returns a formatted string with the book's details"
   ]
  },
  {
   "cell_type": "code",
   "execution_count": 35,
   "id": "ee5a8d34-4da5-44fb-98f3-b3645bc22016",
   "metadata": {},
   "outputs": [
    {
     "name": "stdout",
     "output_type": "stream",
     "text": [
      "Title: Maths | Author: RS Aggarwal | Year Published: 2000\n"
     ]
    }
   ],
   "source": [
    "class Book:\n",
    "    def __init__(self,title,author,year_published):\n",
    "        self.title=title\n",
    "        self.author=author\n",
    "        self.year_published=year_published\n",
    "    def get_book_info(self):\n",
    "        return f\"Title: {self.title} | Author: {self.author} | Year Published: {self.year_published}\"\n",
    "b=Book(\"Maths\",\"RS Aggarwal\",2000)\n",
    "print(b.get_book_info())\n",
    "    "
   ]
  },
  {
   "cell_type": "markdown",
   "id": "f94d4a25-435d-499c-94d4-8fa272391a03",
   "metadata": {},
   "source": [
    "### 18. Create a class House with attributes address and price. Create a derived class Mansion that adds an attribute number_of_rooms"
   ]
  },
  {
   "cell_type": "code",
   "execution_count": 36,
   "id": "7f9f24e2-a667-4ec0-80fc-0fbdef269a46",
   "metadata": {},
   "outputs": [
    {
     "name": "stdout",
     "output_type": "stream",
     "text": [
      "Address: Kolkata | Price: 100000000 | Number of Rooms: 7\n"
     ]
    }
   ],
   "source": [
    "class House:\n",
    "    def __init__(self,address,price):\n",
    "        self.address=address\n",
    "        self.price=price\n",
    "    def show_details(self):\n",
    "        return f\"Address: {self.address} | Price: {self.price}\"\n",
    "class Mansion(House):\n",
    "    def __init__(self,address,price,number_of_rooms):\n",
    "        super().__init__(address,price)\n",
    "        self.number_of_rooms=number_of_rooms\n",
    "    def show_details(self):\n",
    "        return f\"{super().show_details()} | Number of Rooms: {self.number_of_rooms}\"\n",
    "m=Mansion(\"Kolkata\",100000000,7)\n",
    "print(m.show_details())\n",
    "        "
   ]
  },
  {
   "cell_type": "code",
   "execution_count": null,
   "id": "971e1e08-1414-4f1a-9695-0af76d603455",
   "metadata": {},
   "outputs": [],
   "source": []
  }
 ],
 "metadata": {
  "kernelspec": {
   "display_name": "Python 3 (ipykernel)",
   "language": "python",
   "name": "python3"
  },
  "language_info": {
   "codemirror_mode": {
    "name": "ipython",
    "version": 3
   },
   "file_extension": ".py",
   "mimetype": "text/x-python",
   "name": "python",
   "nbconvert_exporter": "python",
   "pygments_lexer": "ipython3",
   "version": "3.12.7"
  }
 },
 "nbformat": 4,
 "nbformat_minor": 5
}
